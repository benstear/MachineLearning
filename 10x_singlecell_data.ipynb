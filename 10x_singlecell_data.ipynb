{
 "cells": [
  {
   "cell_type": "code",
   "execution_count": 36,
   "metadata": {},
   "outputs": [],
   "source": [
    "import scipy as sp\n",
    "import numpy as np\n",
    "# https://support.10xgenomics.com/single-cell-gene-expression/datasets/2.1.0/neurons_900"
   ]
  },
  {
   "cell_type": "code",
   "execution_count": 37,
   "metadata": {},
   "outputs": [],
   "source": [
    "# Import filtered data\n",
    "matrix_filt = sp.io.mmread('/Users/dawnstear/desktop/filtered_gene_bc_matrices/mm10/matrix.mtx')\n",
    "genes_filt = sp.genfromtxt(\"/Users/dawnstear/Desktop/filtered_gene_bc_matrices/mm10/genes.tsv\", delimiter=\"\\t\")\n",
    "barcodes_filt = sp.genfromtxt(\"/Users/dawnstear/Desktop/filtered_gene_bc_matrices/mm10/barcodes.tsv\", delimiter=\"\\t\") "
   ]
  },
  {
   "cell_type": "code",
   "execution_count": 39,
   "metadata": {},
   "outputs": [
    {
     "name": "stdout",
     "output_type": "stream",
     "text": [
      "(27998, 2)\n",
      "(931,)\n"
     ]
    }
   ],
   "source": [
    "matrows,matcols = np.shape(df)\n",
    "generows, genecols = np.shape(genes_filt) # list of genes, with some ID in col_1\n",
    "#print(\"Rows in matrix: \", matrows,matcols)\n",
    "#print(generows,genecols)\n",
    "bclist = np.shape(barcodes_filt) # just a list of barcodes\n",
    "#print(bclist)"
   ]
  },
  {
   "cell_type": "code",
   "execution_count": null,
   "metadata": {},
   "outputs": [],
   "source": []
  },
  {
   "cell_type": "code",
   "execution_count": null,
   "metadata": {},
   "outputs": [],
   "source": []
  }
 ],
 "metadata": {
  "kernelspec": {
   "display_name": "Python 3",
   "language": "python",
   "name": "python3"
  },
  "language_info": {
   "codemirror_mode": {
    "name": "ipython",
    "version": 3
   },
   "file_extension": ".py",
   "mimetype": "text/x-python",
   "name": "python",
   "nbconvert_exporter": "python",
   "pygments_lexer": "ipython3",
   "version": "3.6.4"
  }
 },
 "nbformat": 4,
 "nbformat_minor": 2
}
